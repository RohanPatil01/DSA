{
 "cells": [
  {
   "cell_type": "code",
   "execution_count": 3,
   "id": "86d9dbdb",
   "metadata": {},
   "outputs": [
    {
     "name": "stdout",
     "output_type": "stream",
     "text": [
      "Element is present at index 3\n"
     ]
    }
   ],
   "source": [
    "# Python3 code to implement iterative Binary\n",
    "# Search.\n",
    "\n",
    "\n",
    "# It returns location of x in given array arr\n",
    "def binarySearch(arr, l, r, x):\n",
    "\n",
    "\twhile l <= r:\n",
    "\n",
    "\t\tmid = l + (r - l) // 2\n",
    "\n",
    "\t\t# Check if x is present at mid\n",
    "\t\tif arr[mid] == x:\n",
    "\t\t\treturn mid\n",
    "\n",
    "\t\t# If x is greater, ignore left half\n",
    "\t\telif arr[mid] < x:\n",
    "\t\t\tl = mid + 1\n",
    "\n",
    "\t\t# If x is smaller, ignore right half\n",
    "\t\telse:\n",
    "\t\t\tr = mid - 1\n",
    "\n",
    "\t# If we reach here, then the element\n",
    "\t# was not present\n",
    "\treturn -1\n",
    "\n",
    "\n",
    "# Driver Code\n",
    "if __name__ == '__main__':\n",
    "\tarr = [2, 3, 4, 10, 40]\n",
    "\tx = 10\n",
    "\n",
    "\t# Function call\n",
    "\tresult = binarySearch(arr, 0, len(arr)-1, x)\n",
    "\tif result != -1:\n",
    "\t\tprint(\"Element is present at index\", result)\n",
    "\telse:\n",
    "\t\tprint(\"Element is not present in array\")\n"
   ]
  },
  {
   "cell_type": "code",
   "execution_count": 31,
   "id": "08cc960f",
   "metadata": {},
   "outputs": [],
   "source": [
    "def DAC(array,searchElement):\n",
    "    startIndex=0\n",
    "    lastIndex=len(array)-1\n",
    "    \n",
    "    while startIndex <= lastIndex:\n",
    "        \n",
    "        midIndex = startIndex + (lastIndex-startIndex) // 2\n",
    "        \n",
    "        if array[midIndex] == searchElement:\n",
    "            return midIndex\n",
    "        \n",
    "        elif array[midIndex] < searchElement:\n",
    "            startIndex = midIndex + 1\n",
    "            \n",
    "        else:\n",
    "            lastIndex = midIndex - 1\n",
    "    return -1"
   ]
  },
  {
   "cell_type": "code",
   "execution_count": 32,
   "id": "5171713a",
   "metadata": {},
   "outputs": [
    {
     "name": "stdout",
     "output_type": "stream",
     "text": [
      "Element is present at index 3\n"
     ]
    }
   ],
   "source": [
    "if __name__ == '__main__':\n",
    "    array = [2, 3, 4, 10, 22 40]\n",
    "    x = 10\n",
    "    result = DAC(array, x)\n",
    "    if result != -1:\n",
    "        print(\"Element is present at index\", result)\n",
    "    else:\n",
    "        print(\"Element is not present in array\")"
   ]
  },
  {
   "cell_type": "code",
   "execution_count": null,
   "id": "b38c8169",
   "metadata": {},
   "outputs": [],
   "source": []
  },
  {
   "cell_type": "code",
   "execution_count": null,
   "id": "ff6cc2b0",
   "metadata": {},
   "outputs": [],
   "source": []
  },
  {
   "cell_type": "code",
   "execution_count": null,
   "id": "668b8ebf",
   "metadata": {},
   "outputs": [],
   "source": []
  },
  {
   "cell_type": "code",
   "execution_count": null,
   "id": "129f4b0d",
   "metadata": {},
   "outputs": [],
   "source": []
  },
  {
   "cell_type": "code",
   "execution_count": null,
   "id": "c6165cfe",
   "metadata": {},
   "outputs": [],
   "source": []
  },
  {
   "cell_type": "code",
   "execution_count": null,
   "id": "15a651b0",
   "metadata": {},
   "outputs": [],
   "source": []
  },
  {
   "cell_type": "code",
   "execution_count": null,
   "id": "81795e79",
   "metadata": {},
   "outputs": [],
   "source": []
  },
  {
   "cell_type": "code",
   "execution_count": 42,
   "id": "c3e0891e",
   "metadata": {},
   "outputs": [
    {
     "name": "stdout",
     "output_type": "stream",
     "text": [
      "Enter the number that you want to search: 4\n",
      "4 is present at the 2 index in the array.\n"
     ]
    }
   ],
   "source": [
    "def binarySearch(array,searchElement):\n",
    "    zeroIndex=0\n",
    "    lastIndex=len(array)-1\n",
    "    while zeroIndex <= lastIndex:\n",
    "        midIndex = ( (lastIndex-zeroIndex)//2 ) + zeroIndex\n",
    "        if (array[midIndex] == searchElement):\n",
    "            return midIndex\n",
    "        elif (array[midIndex] < searchElement):\n",
    "            zeroIndex = midIndex + 1\n",
    "        else:\n",
    "            lastIndex = midIndex - 1\n",
    "    return -1\n",
    "\n",
    "if  __name__==\"__main__\":\n",
    "    array = [1,3,4,6,7,8,9,14,17,18,19,23,26,27]\n",
    "    searchElement = int(input(\"Enter the number that you want to search: \"))\n",
    "    result = binarySearch(array,searchElement)\n",
    "    if result == -1:\n",
    "        print(\"{} is not present in the array.\".format(searchElement))\n",
    "    else:\n",
    "        if result == 1:\n",
    "            \n",
    "        elif result == 2:\n",
    "            \n",
    "        elif result \n",
    "        print(\"{} is present at the {} index in the array.\".format(searchElement,result))"
   ]
  },
  {
   "cell_type": "code",
   "execution_count": null,
   "id": "032a41b7",
   "metadata": {},
   "outputs": [],
   "source": []
  },
  {
   "cell_type": "code",
   "execution_count": null,
   "id": "4e1e85b2",
   "metadata": {},
   "outputs": [],
   "source": []
  },
  {
   "cell_type": "code",
   "execution_count": null,
   "id": "8ea5d592",
   "metadata": {},
   "outputs": [],
   "source": []
  },
  {
   "cell_type": "code",
   "execution_count": null,
   "id": "d0c01739",
   "metadata": {},
   "outputs": [],
   "source": []
  },
  {
   "cell_type": "code",
   "execution_count": null,
   "id": "5b428d3d",
   "metadata": {},
   "outputs": [],
   "source": []
  },
  {
   "cell_type": "code",
   "execution_count": null,
   "id": "e7617b93",
   "metadata": {},
   "outputs": [],
   "source": []
  },
  {
   "cell_type": "code",
   "execution_count": null,
   "id": "6f920e39",
   "metadata": {},
   "outputs": [],
   "source": []
  },
  {
   "cell_type": "code",
   "execution_count": null,
   "id": "62f33840",
   "metadata": {},
   "outputs": [],
   "source": []
  },
  {
   "cell_type": "code",
   "execution_count": null,
   "id": "f63f20ce",
   "metadata": {},
   "outputs": [],
   "source": []
  },
  {
   "cell_type": "code",
   "execution_count": null,
   "id": "a890099e",
   "metadata": {},
   "outputs": [],
   "source": []
  },
  {
   "cell_type": "code",
   "execution_count": null,
   "id": "55e506af",
   "metadata": {},
   "outputs": [],
   "source": []
  },
  {
   "cell_type": "code",
   "execution_count": null,
   "id": "1f8e5ccd",
   "metadata": {},
   "outputs": [],
   "source": []
  },
  {
   "cell_type": "code",
   "execution_count": null,
   "id": "351e6027",
   "metadata": {},
   "outputs": [],
   "source": []
  },
  {
   "cell_type": "code",
   "execution_count": null,
   "id": "d9c8b991",
   "metadata": {},
   "outputs": [],
   "source": []
  }
 ],
 "metadata": {
  "kernelspec": {
   "display_name": "Python 3 (ipykernel)",
   "language": "python",
   "name": "python3"
  },
  "language_info": {
   "codemirror_mode": {
    "name": "ipython",
    "version": 3
   },
   "file_extension": ".py",
   "mimetype": "text/x-python",
   "name": "python",
   "nbconvert_exporter": "python",
   "pygments_lexer": "ipython3",
   "version": "3.11.3"
  }
 },
 "nbformat": 4,
 "nbformat_minor": 5
}
