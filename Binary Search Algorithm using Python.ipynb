{
 "cells": [
  {
   "cell_type": "code",
   "execution_count": 44,
   "id": "fa23725a",
   "metadata": {},
   "outputs": [
    {
     "name": "stdout",
     "output_type": "stream",
     "text": [
      "Enter the number that you want to search: 8\n",
      "8 is present at the 5th index in the array.\n"
     ]
    }
   ],
   "source": [
    "def binarySearch(array,searchElement):\n",
    "    zeroIndex=0\n",
    "    lastIndex=len(array)-1\n",
    "    while zeroIndex <= lastIndex:\n",
    "        midIndex = ( (lastIndex-zeroIndex)//2 ) + zeroIndex\n",
    "        if (array[midIndex] == searchElement):\n",
    "            return midIndex\n",
    "        elif (array[midIndex] < searchElement):\n",
    "            zeroIndex = midIndex + 1\n",
    "        else:\n",
    "            lastIndex = midIndex - 1\n",
    "    return -1\n",
    "\n",
    "if  __name__==\"__main__\":\n",
    "    array = [1,3,4,6,7,8,9,14,17,18,19,23,26,27]\n",
    "    searchElement = int(input(\"Enter the number that you want to search: \"))\n",
    "    result = binarySearch(array,searchElement)\n",
    "    if result == -1:\n",
    "        print(\"{} is not present in the array.\".format(searchElement))\n",
    "    else: \n",
    "        print(\"{} is present at the {}th index in the array.\".format(searchElement,result))"
   ]
  }
 ],
 "metadata": {
  "kernelspec": {
   "display_name": "Python 3 (ipykernel)",
   "language": "python",
   "name": "python3"
  },
  "language_info": {
   "codemirror_mode": {
    "name": "ipython",
    "version": 3
   },
   "file_extension": ".py",
   "mimetype": "text/x-python",
   "name": "python",
   "nbconvert_exporter": "python",
   "pygments_lexer": "ipython3",
   "version": "3.11.3"
  }
 },
 "nbformat": 4,
 "nbformat_minor": 5
}
