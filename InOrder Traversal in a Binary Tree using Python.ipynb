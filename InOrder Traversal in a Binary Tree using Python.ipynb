{
 "cells": [
  {
   "cell_type": "code",
   "execution_count": 3,
   "id": "173bbcf3",
   "metadata": {},
   "outputs": [],
   "source": [
    "class node:\n",
    "    def __init__(self,value):\n",
    "        self.left=None\n",
    "        self.right=None\n",
    "        self.key=value\n",
    "        \n",
    "if __name__==\"__main__\":\n",
    "    root=node(0)\n",
    "    root.left=node(1)\n",
    "    root.right=node(2)\n",
    "    root.left.left=node(3)\n",
    "    root.left.right=node(4)\n",
    "    root.right.left=node(5)\n",
    "    root.right.right=node(6)\n",
    "    root.right.right.left=node(18)\n",
    "    root.right.right.right=node(20)    "
   ]
  },
  {
   "cell_type": "code",
   "execution_count": 5,
   "id": "cdd6b00d",
   "metadata": {},
   "outputs": [
    {
     "name": "stdout",
     "output_type": "stream",
     "text": [
      "The inorder traversal is : 3 1 4 0 5 2 18 6 20 "
     ]
    }
   ],
   "source": [
    "def InOrder(root):\n",
    "    if root:\n",
    "        InOrder(root.left)\n",
    "        print(root.key,end=\" \")\n",
    "        InOrder(root.right)\n",
    "        \n",
    "print(\"The inorder traversal is : \",end=\"\")\n",
    "InOrder(root)"
   ]
  },
  {
   "cell_type": "code",
   "execution_count": null,
   "id": "511402a0",
   "metadata": {},
   "outputs": [],
   "source": []
  }
 ],
 "metadata": {
  "kernelspec": {
   "display_name": "Python 3 (ipykernel)",
   "language": "python",
   "name": "python3"
  },
  "language_info": {
   "codemirror_mode": {
    "name": "ipython",
    "version": 3
   },
   "file_extension": ".py",
   "mimetype": "text/x-python",
   "name": "python",
   "nbconvert_exporter": "python",
   "pygments_lexer": "ipython3",
   "version": "3.11.3"
  }
 },
 "nbformat": 4,
 "nbformat_minor": 5
}
