{
 "cells": [
  {
   "cell_type": "code",
   "execution_count": 5,
   "id": "d7f4cf60",
   "metadata": {},
   "outputs": [],
   "source": [
    "class node:\n",
    "    def __init__(self,value):\n",
    "        self.left=None\n",
    "        self.right=None\n",
    "        self.key=value\n",
    "        \n",
    "if __name__==\"__main__\":\n",
    "    root=node(0)\n",
    "    root.left=node(1)\n",
    "    root.right=node(2)\n",
    "    root.left.left=node(3)\n",
    "    root.left.right=node(4)\n",
    "    root.right.left=node(5)\n",
    "    root.right.right=node(6)\n",
    "    root.right.right.left=node(18)\n",
    "    root.right.right.right=node(20)    "
   ]
  },
  {
   "cell_type": "code",
   "execution_count": 4,
   "id": "8f40bcd3",
   "metadata": {},
   "outputs": [
    {
     "name": "stdout",
     "output_type": "stream",
     "text": [
      "The postorder traversal is : 3 4 1 5 18 20 6 2 0 "
     ]
    }
   ],
   "source": [
    "def PostOrder(root):\n",
    "    if root:\n",
    "        PostOrder(root.left)\n",
    "        PostOrder(root.right)\n",
    "        print(root.key,end=\" \")\n",
    "        \n",
    "print(\"The postorder traversal is : \",end=\"\")\n",
    "PostOrder(root)"
   ]
  }
 ],
 "metadata": {
  "kernelspec": {
   "display_name": "Python 3 (ipykernel)",
   "language": "python",
   "name": "python3"
  },
  "language_info": {
   "codemirror_mode": {
    "name": "ipython",
    "version": 3
   },
   "file_extension": ".py",
   "mimetype": "text/x-python",
   "name": "python",
   "nbconvert_exporter": "python",
   "pygments_lexer": "ipython3",
   "version": "3.11.3"
  }
 },
 "nbformat": 4,
 "nbformat_minor": 5
}
